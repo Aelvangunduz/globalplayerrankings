{
 "metadata": {
  "language_info": {
   "codemirror_mode": {
    "name": "ipython",
    "version": 3
   },
   "file_extension": ".py",
   "mimetype": "text/x-python",
   "name": "python",
   "nbconvert_exporter": "python",
   "pygments_lexer": "ipython3",
   "version": "3.8.5-final"
  },
  "orig_nbformat": 2,
  "kernelspec": {
   "name": "python3",
   "display_name": "Python 3"
  }
 },
 "nbformat": 4,
 "nbformat_minor": 2,
 "cells": [
  {
   "source": [
    "# Minimal Example for Python\n",
    "This notebook contains minimally reproducible example for Python."
   ],
   "cell_type": "markdown",
   "metadata": {}
  },
  {
   "cell_type": "code",
   "execution_count": 2,
   "metadata": {},
   "outputs": [],
   "source": [
    "import os\n",
    "import yaml\n",
    "# print(os.getcwd()) # Check the working directory\n",
    "# os.chdir(..) # Change directory to main folder and not 'src'\n",
    "import numpy as np\n",
    "import pandas as pd\n",
    "import requests\n",
    "\n",
    "def load_config(config_file):\n",
    "    with open(config_file, 'r') as stream:\n",
    "        try:\n",
    "            return yaml.safe_load(stream)\n",
    "        except yaml.YAMLError as exc:\n",
    "            print(exc) "
   ]
  },
  {
   "cell_type": "code",
   "execution_count": 8,
   "metadata": {},
   "outputs": [
    {
     "output_type": "stream",
     "name": "stdout",
     "text": [
      "API URL: http://globalrankings.io/player_ranks\n"
     ]
    }
   ],
   "source": [
    "# Load Configuration file\n",
    "config = load_config('config.yml')\n",
    "api_url = config['api_url']\n",
    "\n",
    "# Check the API URL\n",
    "print(f'API URL: {api_url}')"
   ]
  },
  {
   "cell_type": "code",
   "execution_count": 11,
   "metadata": {},
   "outputs": [],
   "source": [
    "## Specify Query Parameters\n",
    "\n",
    "# Specify the variable weights\n",
    "var_weights = {'crosses_str':2, 'interceptions_reg':1, 'shot_assists_reg':3, 'recoveries_to_fouls_rat': 1}\n",
    "\n",
    "# Specify relevant positions\n",
    "rel_positions = ['lb5', 'rb5', 'lb', 'rb', 'lwb', 'rwb']\n",
    "\n",
    "# Analysis Window\n",
    "window_start = '2017-08-01'\n",
    "window_end = '2018-06-30'\n",
    "\n",
    "# Competitions included\n",
    "comps = ['Domestic league', 'International cup']\n",
    "\n",
    "# Time Decay\n",
    "alpha = 0.99\n",
    "\n",
    "# Minimum number of games\n",
    "min_games = 10\n",
    "\n",
    "# Minimum percentage in relevant positions\n",
    "min_pct = 75\n",
    "\n",
    "# Minimum minutes tagged\n",
    "min_tag = 10"
   ]
  },
  {
   "cell_type": "code",
   "execution_count": 12,
   "metadata": {},
   "outputs": [],
   "source": [
    "# Turn variable weights into string\n",
    "var_param = '{'+\",\".join('\"'+k+'\"'+':'+str(v) for k,v in var_weights.items())+'}'\n",
    "\n",
    "# Turn relevant positions into string\n",
    "pos_param = ','.join(rel_positions)\n",
    "\n",
    "# Turn competitions into string\n",
    "comps_param = ','.join(comps)"
   ]
  },
  {
   "cell_type": "code",
   "execution_count": 13,
   "metadata": {},
   "outputs": [],
   "source": [
    "# Send the HTTP Request to API and get output\n",
    "payload = {'varWeights':var_param, 'positions':pos_param, 'window_start':window_start, 'window_end':window_end, \\\n",
    "    'competitions_included':comps_param, 'time_decay_coef':alpha, 'min_num_games':min_games, 'min_pct_played':min_pct, 'min_tag_threshold':min_tag}\n",
    "resp = requests.get(api_url, params=payload)\n",
    "json_out = resp.json()"
   ]
  },
  {
   "cell_type": "code",
   "execution_count": 20,
   "metadata": {},
   "outputs": [
    {
     "output_type": "execute_result",
     "data": {
      "text/plain": [
       "['variables',\n",
       " 'configuration',\n",
       " 'ingame_statistics',\n",
       " 'scale_coefficients',\n",
       " 'player_averages',\n",
       " 'features',\n",
       " 'player_ranks']"
      ]
     },
     "metadata": {},
     "execution_count": 20
    }
   ],
   "source": [
    "# Print keys\n",
    "list(json_out.keys())"
   ]
  },
  {
   "cell_type": "code",
   "execution_count": 35,
   "metadata": {},
   "outputs": [
    {
     "output_type": "execute_result",
     "data": {
      "text/plain": [
       "   playerId  crosses_str  interceptions_reg  recoveries_to_fouls_rat  \\\n",
       "0       254     0.917790           0.856513                 0.739445   \n",
       "1     18669     0.792178           0.941096                 0.868196   \n",
       "2      6513     0.833134           0.827287                 0.642591   \n",
       "3    131184     0.724783           0.935271                 0.850670   \n",
       "4      3529     0.713051           0.909045                 0.613207   \n",
       "\n",
       "   shot_assists_reg  player_rating target_position  player_rank  \n",
       "0          0.882792       0.866692             lb5            1  \n",
       "1          0.850670       0.848214             lb5            2  \n",
       "2          0.920704       0.837184             lb5            3  \n",
       "3          0.771680       0.790110             lb5            4  \n",
       "4          0.871115       0.787318             lb5            5  "
      ],
      "text/html": "<div>\n<style scoped>\n    .dataframe tbody tr th:only-of-type {\n        vertical-align: middle;\n    }\n\n    .dataframe tbody tr th {\n        vertical-align: top;\n    }\n\n    .dataframe thead th {\n        text-align: right;\n    }\n</style>\n<table border=\"1\" class=\"dataframe\">\n  <thead>\n    <tr style=\"text-align: right;\">\n      <th></th>\n      <th>playerId</th>\n      <th>crosses_str</th>\n      <th>interceptions_reg</th>\n      <th>recoveries_to_fouls_rat</th>\n      <th>shot_assists_reg</th>\n      <th>player_rating</th>\n      <th>target_position</th>\n      <th>player_rank</th>\n    </tr>\n  </thead>\n  <tbody>\n    <tr>\n      <th>0</th>\n      <td>254</td>\n      <td>0.917790</td>\n      <td>0.856513</td>\n      <td>0.739445</td>\n      <td>0.882792</td>\n      <td>0.866692</td>\n      <td>lb5</td>\n      <td>1</td>\n    </tr>\n    <tr>\n      <th>1</th>\n      <td>18669</td>\n      <td>0.792178</td>\n      <td>0.941096</td>\n      <td>0.868196</td>\n      <td>0.850670</td>\n      <td>0.848214</td>\n      <td>lb5</td>\n      <td>2</td>\n    </tr>\n    <tr>\n      <th>2</th>\n      <td>6513</td>\n      <td>0.833134</td>\n      <td>0.827287</td>\n      <td>0.642591</td>\n      <td>0.920704</td>\n      <td>0.837184</td>\n      <td>lb5</td>\n      <td>3</td>\n    </tr>\n    <tr>\n      <th>3</th>\n      <td>131184</td>\n      <td>0.724783</td>\n      <td>0.935271</td>\n      <td>0.850670</td>\n      <td>0.771680</td>\n      <td>0.790110</td>\n      <td>lb5</td>\n      <td>4</td>\n    </tr>\n    <tr>\n      <th>4</th>\n      <td>3529</td>\n      <td>0.713051</td>\n      <td>0.909045</td>\n      <td>0.613207</td>\n      <td>0.871115</td>\n      <td>0.787318</td>\n      <td>lb5</td>\n      <td>5</td>\n    </tr>\n  </tbody>\n</table>\n</div>"
     },
     "metadata": {},
     "execution_count": 35
    }
   ],
   "source": [
    "ranks = json_out['player_ranks']\n",
    "ranks_df = pd.read_json(ranks).sort_values('player_rating', ascending = False).reset_index()\n",
    "ranks_df = ranks_df.rename(columns={'index': 'playerId'})\n",
    "ranks_df.head()"
   ]
  },
  {
   "cell_type": "code",
   "execution_count": 29,
   "metadata": {},
   "outputs": [
    {
     "output_type": "execute_result",
     "data": {
      "text/plain": [
       "   playerId  minutesOnField  minutesTagged     goals   assists     shots  \\\n",
       "0       107       93.800000      93.800000  0.000000  0.000000  0.097519   \n",
       "1       110       78.454545      78.454545  0.000000  0.092167  1.026950   \n",
       "2       132       89.454545      89.454545  0.000000  0.000000  0.185333   \n",
       "3       160       87.909091      87.909091  0.152607  0.000000  1.042079   \n",
       "4       254       93.314286      93.314286  0.028032  0.000000  0.479299   \n",
       "\n",
       "   headShots  yellowCards  redCards  directRedCards  ...  \\\n",
       "0   0.000000     0.161112       0.0             0.0  ...   \n",
       "1   0.047780     0.194557       0.0             0.0  ...   \n",
       "2   0.000000     0.000000       0.0             0.0  ...   \n",
       "3   0.130719     0.132350       0.0             0.0  ...   \n",
       "4   0.000000     0.280721       0.0             0.0  ...   \n",
       "\n",
       "   combined_shots_on_target_scaled  inplay_shots_scaled  \\\n",
       "0                         0.009003             0.027775   \n",
       "1                         0.100715             0.201881   \n",
       "2                         0.000000             0.045397   \n",
       "3                         0.102802             0.247136   \n",
       "4                         0.036295             0.098860   \n",
       "\n",
       "   inplay_shots_on_target_scaled  freekick_shots_scaled  \\\n",
       "0                       0.009003               0.000000   \n",
       "1                       0.082560               0.038337   \n",
       "2                       0.000000               0.000000   \n",
       "3                       0.102802               0.000000   \n",
       "4                       0.020362               0.025274   \n",
       "\n",
       "   freekick_shots_on_target_scaled  penalty_shots_scaled  \\\n",
       "0                         0.000000                   0.0   \n",
       "1                         0.018154                   0.0   \n",
       "2                         0.000000                   0.0   \n",
       "3                         0.000000                   0.0   \n",
       "4                         0.015933                   0.0   \n",
       "\n",
       "   penalty_shots_on_target_scaled  non_penalty_shots_scaled  \\\n",
       "0                             0.0                  0.009003   \n",
       "1                             0.0                  0.120897   \n",
       "2                             0.0                  0.000000   \n",
       "3                             0.0                  0.102802   \n",
       "4                             0.0                  0.045636   \n",
       "\n",
       "   non_penalty_shots_on_target_scaled  num_games  \n",
       "0                            0.009003  29.521734  \n",
       "1                            0.100715  23.888512  \n",
       "2                            0.000000  11.124705  \n",
       "3                            0.102802  22.764153  \n",
       "4                            0.036295  34.469244  \n",
       "\n",
       "[5 rows x 207 columns]"
      ],
      "text/html": "<div>\n<style scoped>\n    .dataframe tbody tr th:only-of-type {\n        vertical-align: middle;\n    }\n\n    .dataframe tbody tr th {\n        vertical-align: top;\n    }\n\n    .dataframe thead th {\n        text-align: right;\n    }\n</style>\n<table border=\"1\" class=\"dataframe\">\n  <thead>\n    <tr style=\"text-align: right;\">\n      <th></th>\n      <th>playerId</th>\n      <th>minutesOnField</th>\n      <th>minutesTagged</th>\n      <th>goals</th>\n      <th>assists</th>\n      <th>shots</th>\n      <th>headShots</th>\n      <th>yellowCards</th>\n      <th>redCards</th>\n      <th>directRedCards</th>\n      <th>...</th>\n      <th>combined_shots_on_target_scaled</th>\n      <th>inplay_shots_scaled</th>\n      <th>inplay_shots_on_target_scaled</th>\n      <th>freekick_shots_scaled</th>\n      <th>freekick_shots_on_target_scaled</th>\n      <th>penalty_shots_scaled</th>\n      <th>penalty_shots_on_target_scaled</th>\n      <th>non_penalty_shots_scaled</th>\n      <th>non_penalty_shots_on_target_scaled</th>\n      <th>num_games</th>\n    </tr>\n  </thead>\n  <tbody>\n    <tr>\n      <th>0</th>\n      <td>107</td>\n      <td>93.800000</td>\n      <td>93.800000</td>\n      <td>0.000000</td>\n      <td>0.000000</td>\n      <td>0.097519</td>\n      <td>0.000000</td>\n      <td>0.161112</td>\n      <td>0.0</td>\n      <td>0.0</td>\n      <td>...</td>\n      <td>0.009003</td>\n      <td>0.027775</td>\n      <td>0.009003</td>\n      <td>0.000000</td>\n      <td>0.000000</td>\n      <td>0.0</td>\n      <td>0.0</td>\n      <td>0.009003</td>\n      <td>0.009003</td>\n      <td>29.521734</td>\n    </tr>\n    <tr>\n      <th>1</th>\n      <td>110</td>\n      <td>78.454545</td>\n      <td>78.454545</td>\n      <td>0.000000</td>\n      <td>0.092167</td>\n      <td>1.026950</td>\n      <td>0.047780</td>\n      <td>0.194557</td>\n      <td>0.0</td>\n      <td>0.0</td>\n      <td>...</td>\n      <td>0.100715</td>\n      <td>0.201881</td>\n      <td>0.082560</td>\n      <td>0.038337</td>\n      <td>0.018154</td>\n      <td>0.0</td>\n      <td>0.0</td>\n      <td>0.120897</td>\n      <td>0.100715</td>\n      <td>23.888512</td>\n    </tr>\n    <tr>\n      <th>2</th>\n      <td>132</td>\n      <td>89.454545</td>\n      <td>89.454545</td>\n      <td>0.000000</td>\n      <td>0.000000</td>\n      <td>0.185333</td>\n      <td>0.000000</td>\n      <td>0.000000</td>\n      <td>0.0</td>\n      <td>0.0</td>\n      <td>...</td>\n      <td>0.000000</td>\n      <td>0.045397</td>\n      <td>0.000000</td>\n      <td>0.000000</td>\n      <td>0.000000</td>\n      <td>0.0</td>\n      <td>0.0</td>\n      <td>0.000000</td>\n      <td>0.000000</td>\n      <td>11.124705</td>\n    </tr>\n    <tr>\n      <th>3</th>\n      <td>160</td>\n      <td>87.909091</td>\n      <td>87.909091</td>\n      <td>0.152607</td>\n      <td>0.000000</td>\n      <td>1.042079</td>\n      <td>0.130719</td>\n      <td>0.132350</td>\n      <td>0.0</td>\n      <td>0.0</td>\n      <td>...</td>\n      <td>0.102802</td>\n      <td>0.247136</td>\n      <td>0.102802</td>\n      <td>0.000000</td>\n      <td>0.000000</td>\n      <td>0.0</td>\n      <td>0.0</td>\n      <td>0.102802</td>\n      <td>0.102802</td>\n      <td>22.764153</td>\n    </tr>\n    <tr>\n      <th>4</th>\n      <td>254</td>\n      <td>93.314286</td>\n      <td>93.314286</td>\n      <td>0.028032</td>\n      <td>0.000000</td>\n      <td>0.479299</td>\n      <td>0.000000</td>\n      <td>0.280721</td>\n      <td>0.0</td>\n      <td>0.0</td>\n      <td>...</td>\n      <td>0.036295</td>\n      <td>0.098860</td>\n      <td>0.020362</td>\n      <td>0.025274</td>\n      <td>0.015933</td>\n      <td>0.0</td>\n      <td>0.0</td>\n      <td>0.045636</td>\n      <td>0.036295</td>\n      <td>34.469244</td>\n    </tr>\n  </tbody>\n</table>\n<p>5 rows × 207 columns</p>\n</div>"
     },
     "metadata": {},
     "execution_count": 29
    }
   ],
   "source": [
    "player_averages = json_out['player_averages']\n",
    "player_averages = pd.read_json(player_averages)\n",
    "player_averages.head()"
   ]
  }
 ]
}